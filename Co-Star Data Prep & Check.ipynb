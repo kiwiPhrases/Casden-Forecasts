{
 "cells": [
  {
   "cell_type": "code",
   "execution_count": 1,
   "metadata": {},
   "outputs": [
    {
     "name": "stderr",
     "output_type": "stream",
     "text": [
      "/home/gene/.local/lib/python3.8/site-packages/geopandas/_compat.py:84: UserWarning: The Shapely GEOS version (3.8.0-CAPI-1.13.1 ) is incompatible with the GEOS version PyGEOS was compiled with (3.8.1-CAPI-1.13.3). Conversions between both will be slow.\n",
      "  warnings.warn(\n"
     ]
    }
   ],
   "source": [
    "import pandas as pd\n",
    "import numpy as np\n",
    "import geopandas as gpd \n",
    "\n",
    "from matplotlib.pyplot import cm\n",
    "\n",
    "import matplotlib.pyplot as plt\n",
    "%matplotlib inline\n",
    "\n",
    "data_path = \"/mnt/c/users/geneb/documents/USC/work/casden\""
   ]
  },
  {
   "cell_type": "markdown",
   "metadata": {},
   "source": [
    "# Co Star Data\n",
    "\n",
    "Lusk bought it for the state of California. Data come from Data Export under the Analytics tab (2021) for sub-markets. \n",
    "\n",
    "The panel goes back all the way to 2000 on a quarterly basis\n",
    "\n",
    "Note, it's possible to download the data that we plot straight from Co-Star (at market, annual level) but I compute it here since we'll use these data for forecasts"
   ]
  },
  {
   "cell_type": "markdown",
   "metadata": {},
   "source": [
    "## Load Data"
   ]
  },
  {
   "cell_type": "code",
   "execution_count": 2,
   "metadata": {},
   "outputs": [],
   "source": [
    "#df = pd.read_excel(\"/\".join([data_path, 'costar_historic_submarket.xlsx']),engine = 'openpyxl')"
   ]
  },
  {
   "cell_type": "code",
   "execution_count": 3,
   "metadata": {},
   "outputs": [],
   "source": [
    "df = pd.read_excel(\"/\".join([data_path, 'DataExport.xlsx']),engine = 'openpyxl')"
   ]
  },
  {
   "cell_type": "code",
   "execution_count": 4,
   "metadata": {},
   "outputs": [
    {
     "data": {
      "text/plain": [
       "array([False, False, False, False, False, False, False, False, False,\n",
       "       False, False, False, False, False, False, False, False, False,\n",
       "       False, False, False,  True,  True, False, False, False, False,\n",
       "       False, False, False, False, False, False, False, False, False,\n",
       "       False, False, False, False, False, False, False, False, False,\n",
       "       False, False, False, False])"
      ]
     },
     "execution_count": 4,
     "metadata": {},
     "output_type": "execute_result"
    }
   ],
   "source": [
    "df.columns.str.contains(\"Gross\")"
   ]
  },
  {
   "cell_type": "markdown",
   "metadata": {},
   "source": [
    "## Process Data\n",
    "\n",
    "Key column names:\n",
    "- Period\n",
    "- Geography Name\n",
    "- Market Asking Rent/SF\n",
    "- Market Asking Rent/Unit\n",
    "- Market Effect Rent/SF\n",
    "- Vacancy Rate\n",
    "- Absorption Units\n",
    "- Occupancy Rate (1- vacancy rate)\n",
    "\n",
    "**Weights** are computed as the share of total units that are in a sub-market"
   ]
  },
  {
   "cell_type": "code",
   "execution_count": 5,
   "metadata": {},
   "outputs": [],
   "source": [
    "# Get market (because costar don't do that for some reason)\n",
    "df.loc[:,'market'] = df['Geography Name'].str.extract(\"([\\w\\s]+) - CA -\",expand=False).str.strip()"
   ]
  },
  {
   "cell_type": "code",
   "execution_count": 6,
   "metadata": {},
   "outputs": [],
   "source": [
    "# extract year\n",
    "df.loc[:,'year'] = df.Period.str.extract(\"(\\d+) Q\", expand=False).str.strip().astype('int')"
   ]
  },
  {
   "cell_type": "code",
   "execution_count": 7,
   "metadata": {},
   "outputs": [],
   "source": [
    "# extract quarters\n",
    "df.loc[:,'quarter'] = df.Period.str[-2:].str.strip()"
   ]
  },
  {
   "cell_type": "code",
   "execution_count": 8,
   "metadata": {},
   "outputs": [],
   "source": [
    "# Seems I downloaded all of CA\n",
    "intrs = ['Los Angeles','Orange','San Diego','Ventura','Inland Empire']\n",
    "df = df.loc[df.market.str.contains(\"|\".join(intrs)),:]"
   ]
  },
  {
   "cell_type": "markdown",
   "metadata": {},
   "source": [
    "# Sub-market Level\n",
    "\n",
    "Problem here is that we must combine markets\n",
    "\n",
    "Consider **Los Angeles**. \n",
    "In the Casden report, there are only 11 markets while Co-Star has 36 sub-markets. Moreover, they do not, or rather cannot, be directly overlapped. I do my best to match geographies though"
   ]
  },
  {
   "cell_type": "markdown",
   "metadata": {},
   "source": [
    "# Re-assign sub-market \n",
    "\n",
    "This is needed to agree with markets in the Casden Report"
   ]
  },
  {
   "cell_type": "code",
   "execution_count": 9,
   "metadata": {},
   "outputs": [],
   "source": [
    "df.loc[:,'casden_submark'] = ''"
   ]
  },
  {
   "cell_type": "markdown",
   "metadata": {},
   "source": [
    "### Los Angeles"
   ]
  },
  {
   "cell_type": "code",
   "execution_count": 10,
   "metadata": {},
   "outputs": [],
   "source": [
    "df.loc[df['Geography Name'].str.contains(\"Los Angeles\"),'Geography Name'].str.replace(\"Los Angeles - CA - \",'').sort_values().unique()\n",
    "LA = df['Geography Name'].str.contains(\"Los Angeles\")"
   ]
  },
  {
   "cell_type": "code",
   "execution_count": 11,
   "metadata": {},
   "outputs": [],
   "source": [
    "cond = df['Geography Name'].str.contains(\"Glendale|Burbank|Sun Valley|Northeast Los Angeles\")\n",
    "df.loc[cond & LA, 'casden_submark'] = 'Burbank-Glendale'"
   ]
  },
  {
   "cell_type": "code",
   "execution_count": 12,
   "metadata": {},
   "outputs": [],
   "source": [
    "cond = df['Geography Name'].str.contains(\"Glendale|Burbank|Sun Valley|Northeast Los Angeles\")"
   ]
  },
  {
   "cell_type": "code",
   "execution_count": 13,
   "metadata": {},
   "outputs": [
    {
     "data": {
      "text/plain": [
       "array(['Burbank-Glendale'], dtype=object)"
      ]
     },
     "execution_count": 13,
     "metadata": {},
     "output_type": "execute_result"
    }
   ],
   "source": [
    "df.loc[cond & LA, 'casden_submark'].unique()"
   ]
  },
  {
   "cell_type": "code",
   "execution_count": 14,
   "metadata": {},
   "outputs": [],
   "source": [
    "cond = df['Geography Name'].str.contains(\"Long Beach/Ports|Beach Communities|South Bay\")\n",
    "df.loc[cond & LA, 'casden_submark'] = 'Long Beach-South Bay'"
   ]
  },
  {
   "cell_type": "code",
   "execution_count": 15,
   "metadata": {},
   "outputs": [],
   "source": [
    "cond = df['Geography Name'].str.contains(\"Beverly Hills/Century City/UCLA|Greater Culver City|Santa Monica|West Hollywood|West County\")\n",
    "df.loc[cond & LA, 'casden_submark'] = 'Coastal Communities - Beverly Hills'"
   ]
  },
  {
   "cell_type": "code",
   "execution_count": 16,
   "metadata": {},
   "outputs": [
    {
     "data": {
      "text/plain": [
       "array(['', 'Long Beach-South Bay', 'Coastal Communities - Beverly Hills',\n",
       "       'Burbank-Glendale'], dtype=object)"
      ]
     },
     "execution_count": 16,
     "metadata": {},
     "output_type": "execute_result"
    }
   ],
   "source": [
    "df.casden_submark.unique()"
   ]
  },
  {
   "cell_type": "code",
   "execution_count": 17,
   "metadata": {},
   "outputs": [],
   "source": [
    "cond = df['Geography Name'].str.contains(\"Lancaster|Palmdale|Santa Clarita\")\n",
    "df.loc[cond & LA, 'casden_submark'] = 'Palmdale-Lancaster-Santa Clarita'"
   ]
  },
  {
   "cell_type": "code",
   "execution_count": 18,
   "metadata": {},
   "outputs": [],
   "source": [
    "cond = df['Geography Name'].str.contains(\"San Fernando Valley|Woodland Hills|Tarzana|Panorama|Northridge|Van Nuys|Studio\")\n",
    "df.loc[cond & LA, 'casden_submark'] = 'San Fernando Valley'"
   ]
  },
  {
   "cell_type": "code",
   "execution_count": 19,
   "metadata": {},
   "outputs": [],
   "source": [
    "cond = df['Geography Name'].str.contains(\"Inglewood\")\n",
    "df.loc[cond & LA, 'casden_submark'] = 'Inglewood'"
   ]
  },
  {
   "cell_type": "code",
   "execution_count": 20,
   "metadata": {},
   "outputs": [],
   "source": [
    "cond = df['Geography Name'].str.contains(\"Pasadena\")\n",
    "df.loc[cond & LA, 'casden_submark'] = 'Pasadena'"
   ]
  },
  {
   "cell_type": "code",
   "execution_count": 21,
   "metadata": {},
   "outputs": [],
   "source": [
    "cond = df['Geography Name'].str.contains(\"San Gabriel\")\n",
    "df.loc[cond & LA, 'casden_submark'] = 'San Gabriel'"
   ]
  },
  {
   "cell_type": "code",
   "execution_count": 22,
   "metadata": {},
   "outputs": [],
   "source": [
    "cond = df['Geography Name'].str.contains(\"South Los Angeles|Southeast Los Angeles\")\n",
    "df.loc[cond & LA, 'casden_submark'] = 'South/Southeast Los Angeles'"
   ]
  },
  {
   "cell_type": "code",
   "execution_count": 23,
   "metadata": {},
   "outputs": [],
   "source": [
    "cond = df['Geography Name'].str.contains(\"Downtown Los Angeles|Westlake\")\n",
    "df.loc[cond & LA, 'casden_submark'] = 'Downtown'"
   ]
  },
  {
   "cell_type": "code",
   "execution_count": 24,
   "metadata": {},
   "outputs": [],
   "source": [
    "cond = df['Geography Name'].str.contains(\"Mid Wilshire|Koreatown|North Hollywood|East Hollywood\")\n",
    "df.loc[cond & LA, 'casden_submark'] = 'Koreatown-Mid City'"
   ]
  },
  {
   "cell_type": "markdown",
   "metadata": {},
   "source": [
    "### San Diego\n",
    "\n",
    "Casden divides into 4, Co-Star has 14 sub-markets (including Outlying San Diego)"
   ]
  },
  {
   "cell_type": "code",
   "execution_count": 25,
   "metadata": {},
   "outputs": [],
   "source": [
    "df.loc[df['Geography Name'].str.contains(\"San Diego\"),'Geography Name'].str.replace(\"San Diego - CA - \",'').sort_values().unique()\n",
    "SD = df['Geography Name'].str.contains(\"San Diego\")"
   ]
  },
  {
   "cell_type": "code",
   "execution_count": 26,
   "metadata": {},
   "outputs": [],
   "source": [
    "cond = df['Geography Name'].str.contains(\"North Shore Cities|La Jolla/UTC|Coronado/Point Loma|Balboa Park|East San Diego/El Cajon|Downtown San Diego\")\n",
    "df.loc[cond & SD, 'casden_submark'] = 'City of San Diego (Coastal)'"
   ]
  },
  {
   "cell_type": "code",
   "execution_count": 27,
   "metadata": {},
   "outputs": [],
   "source": [
    "cond = df['Geography Name'].str.contains(\"Mission Valley/North Central|'National City/South Central|East San Diego/El Cajon\")\n",
    "df.loc[cond  & SD, 'casden_submark'] = 'City of San Diego (Inland)'"
   ]
  },
  {
   "cell_type": "code",
   "execution_count": 28,
   "metadata": {},
   "outputs": [],
   "source": [
    "cond = df['Geography Name'].str.contains(\"Chula Vista/Imperial Beach\")\n",
    "df.loc[cond & SD , 'casden_submark'] = 'Chula Vista-National City'"
   ]
  },
  {
   "cell_type": "code",
   "execution_count": 29,
   "metadata": {},
   "outputs": [],
   "source": [
    "cond = df['Geography Name'].str.contains(\"North I-15 Corridor|Poway/Santee/Ramona|North County\")\n",
    "df.loc[cond & SD, 'casden_submark'] = 'North County'"
   ]
  },
  {
   "cell_type": "markdown",
   "metadata": {},
   "source": [
    "### Orange County\n",
    "\n",
    "Casden divides it into 5 areas, co-star has 10 sub-markets"
   ]
  },
  {
   "cell_type": "code",
   "execution_count": 30,
   "metadata": {},
   "outputs": [],
   "source": [
    "df.loc[df['Geography Name'].str.contains(\"Orange County\"),'Geography Name'].str.replace(\"Orange County - CA - \",'').sort_values().unique()\n",
    "OC = df['Geography Name'].str.contains(\"Orange County\")"
   ]
  },
  {
   "cell_type": "code",
   "execution_count": 31,
   "metadata": {},
   "outputs": [],
   "source": [
    "cond = df['Geography Name'].str.contains(\"Anaheim|Central OC West of I-5\")\n",
    "df.loc[cond & OC, 'casden_submark'] = 'Anaheim-West Orange Central'"
   ]
  },
  {
   "cell_type": "code",
   "execution_count": 32,
   "metadata": {},
   "outputs": [],
   "source": [
    "cond = df['Geography Name'].str.contains(\"North County\")\n",
    "df.loc[cond & OC, 'casden_submark'] = 'La Habra-North OC'"
   ]
  },
  {
   "cell_type": "code",
   "execution_count": 33,
   "metadata": {},
   "outputs": [],
   "source": [
    "cond = df['Geography Name'].str.contains(\"Central OC East of I-5|South County|Irvine|Tustin\")\n",
    "df.loc[cond & OC, 'casden_submark'] = 'Irvine-South-East-OC'"
   ]
  },
  {
   "cell_type": "code",
   "execution_count": 34,
   "metadata": {},
   "outputs": [],
   "source": [
    "cond = df['Geography Name'].str.contains(\"Huntington Beach/Seal Beach|Newport Beach|Costa Mesa\")\n",
    "df.loc[cond & OC, 'casden_submark'] = 'Huntington-Seal-Coastal-OC'"
   ]
  },
  {
   "cell_type": "markdown",
   "metadata": {},
   "source": [
    "### Inland Empire\n",
    "\n",
    "Casden divides this into 4 areas whereas Co-Star divides it into 8 pieces. Good thing, if there's overlap then this is the best we get"
   ]
  },
  {
   "cell_type": "code",
   "execution_count": 35,
   "metadata": {},
   "outputs": [],
   "source": [
    "df.loc[df['Geography Name'].str.contains(\"Inland Empire\"),'Geography Name'].str.replace(\"Inland Empire - CA - \",'').sort_values().unique()\n",
    "IE = df['Geography Name'].str.contains(\"Inland Empire\")"
   ]
  },
  {
   "cell_type": "code",
   "execution_count": 36,
   "metadata": {},
   "outputs": [],
   "source": [
    "cond = df['Geography Name'].str.contains(\"Palm Springs|Outlying San Bernardino County\")\n",
    "df.loc[cond & IE, 'casden_submark'] = 'Palm Springs-Indio'"
   ]
  },
  {
   "cell_type": "code",
   "execution_count": 37,
   "metadata": {},
   "outputs": [],
   "source": [
    "cond = df['Geography Name'].str.contains(\"Riverside/Corona|San Jacinto|Southwest Riverside County/Temecula\")\n",
    "df.loc[cond & IE, 'casden_submark'] = 'West Riverside County'"
   ]
  },
  {
   "cell_type": "code",
   "execution_count": 38,
   "metadata": {},
   "outputs": [],
   "source": [
    "cond = df['Geography Name'].str.contains(\"Greater Ontario/Rancho Cucamonga|San Bernardino\")\n",
    "df.loc[cond & IE, 'casden_submark'] = 'Rancho Cucamonga-San Bernardino'"
   ]
  },
  {
   "cell_type": "markdown",
   "metadata": {},
   "source": [
    "### Ventura\n",
    "\n",
    "Casden has 2 areas (simi and oxnard) while Co-star has 10"
   ]
  },
  {
   "cell_type": "code",
   "execution_count": 39,
   "metadata": {},
   "outputs": [],
   "source": [
    "df.loc[df['Geography Name'].str.contains(\"Ventura\"),'Geography Name'].str.replace(\"Ventura - CA - \",'').sort_values().unique()\n",
    "Vn = df['Geography Name'].str.contains(\"Ventura\")"
   ]
  },
  {
   "cell_type": "code",
   "execution_count": 40,
   "metadata": {},
   "outputs": [],
   "source": [
    "cond = df['Geography Name'].str.contains(\"Port Hueneme|Oxnard|Ventura\")\n",
    "df.loc[cond & Vn, 'casden_submark'] = 'Oxnard-Port Hueneme-Ventura'"
   ]
  },
  {
   "cell_type": "code",
   "execution_count": 41,
   "metadata": {},
   "outputs": [],
   "source": [
    "cond = df['Geography Name'].str.contains(\"Simi Valley|Thousand Oaks|Oak Park\")\n",
    "df.loc[cond & Vn, 'casden_submark'] = 'Simi Valley'"
   ]
  },
  {
   "cell_type": "markdown",
   "metadata": {},
   "source": [
    "# Compute Unit-based weights"
   ]
  },
  {
   "cell_type": "markdown",
   "metadata": {},
   "source": [
    "### Sub-market weights within Markets"
   ]
  },
  {
   "cell_type": "code",
   "execution_count": 42,
   "metadata": {},
   "outputs": [],
   "source": [
    "# compute weights (weights are essentially share of units)\n",
    "df.loc[:,'totalUnits_qrt'] = df.groupby(['Period','market'])['Demand Units'].transform('sum')\n",
    "#df.loc[:,'totalUnits_yr'] = df.groupby(['year','market'])['Demand Units'].transform('sum')\n",
    "\n",
    "# essentially the share of units that this submarket has\n",
    "df.loc[:,'market_weight_qrt'] = np.divide(df['Demand Units'],df['totalUnits_qrt'])\n",
    "#df.loc[:,'market_weight_yr'] = np.divide(df['Demand Units'],df['totalUnits_yr'])"
   ]
  },
  {
   "cell_type": "markdown",
   "metadata": {},
   "source": [
    "### Sub-market weights within Casden-ish Sub-markets"
   ]
  },
  {
   "cell_type": "code",
   "execution_count": null,
   "metadata": {},
   "outputs": [],
   "source": []
  },
  {
   "cell_type": "code",
   "execution_count": 43,
   "metadata": {},
   "outputs": [],
   "source": [
    "cond = (df.casden_submark != '')\n",
    "df.loc[:,'totalUnits_qrt_cas'] = 0\n",
    "df.loc[:,'market_weight_qrt_cas'] = 0"
   ]
  },
  {
   "cell_type": "code",
   "execution_count": 44,
   "metadata": {},
   "outputs": [],
   "source": [
    "# compute weights (weights are essentially share of units)\n",
    "df.loc[cond,'totalUnits_qrt_cas'] = df.loc[cond,:].groupby(['Period','casden_submark'])['Demand Units'].transform('sum')\n",
    "#df.loc[:,'totalUnits_yr'] = df.groupby(['year','market'])['Demand Units'].transform('sum')\n",
    "\n",
    "# essentially the share of units that this submarket has\n",
    "df.loc[cond,'market_weight_qrt_cas'] = np.divide(df['Demand Units'],df['totalUnits_qrt_cas'])\n",
    "#df.loc[:,'market_weight_yr'] = np.divide(df['Demand Units'],df['totalUnits_yr'])"
   ]
  },
  {
   "cell_type": "code",
   "execution_count": 45,
   "metadata": {},
   "outputs": [
    {
     "data": {
      "text/plain": [
       "Period   casden_submark             \n",
       "2000 Q1  Anaheim-West Orange Central    1.0\n",
       "         Burbank-Glendale               1.0\n",
       "         Chula Vista-National City      1.0\n",
       "         City of San Diego (Coastal)    1.0\n",
       "         City of San Diego (Inland)     1.0\n",
       "                                       ... \n",
       "2021 Q1  San Fernando Valley            1.0\n",
       "         San Gabriel                    1.0\n",
       "         Simi Valley                    1.0\n",
       "         South/Southeast Los Angeles    1.0\n",
       "         West Riverside County          1.0\n",
       "Name: market_weight_qrt_cas, Length: 2040, dtype: float64"
      ]
     },
     "execution_count": 45,
     "metadata": {},
     "output_type": "execute_result"
    }
   ],
   "source": [
    "df.loc[cond,:].groupby(['Period','casden_submark']).market_weight_qrt_cas.sum()"
   ]
  },
  {
   "cell_type": "markdown",
   "metadata": {},
   "source": [
    "# Save the data"
   ]
  },
  {
   "cell_type": "code",
   "execution_count": 46,
   "metadata": {},
   "outputs": [
    {
     "data": {
      "text/html": [
       "<div>\n",
       "<style scoped>\n",
       "    .dataframe tbody tr th:only-of-type {\n",
       "        vertical-align: middle;\n",
       "    }\n",
       "\n",
       "    .dataframe tbody tr th {\n",
       "        vertical-align: top;\n",
       "    }\n",
       "\n",
       "    .dataframe thead th {\n",
       "        text-align: right;\n",
       "    }\n",
       "</style>\n",
       "<table border=\"1\" class=\"dataframe\">\n",
       "  <thead>\n",
       "    <tr style=\"text-align: right;\">\n",
       "      <th></th>\n",
       "      <th>Geography Name</th>\n",
       "      <th>Period</th>\n",
       "      <th>Vacancy Rate</th>\n",
       "      <th>Market Asking Rent/Unit</th>\n",
       "      <th>Under Construction Buildings</th>\n",
       "    </tr>\n",
       "  </thead>\n",
       "  <tbody>\n",
       "    <tr>\n",
       "      <th>2635</th>\n",
       "      <td>Inland Empire - CA - Greater Ontario/Rancho Cu...</td>\n",
       "      <td>2000 Q1</td>\n",
       "      <td>0.030945</td>\n",
       "      <td>962.320435</td>\n",
       "      <td>2</td>\n",
       "    </tr>\n",
       "    <tr>\n",
       "      <th>2636</th>\n",
       "      <td>Inland Empire - CA - Greater Ontario/Rancho Cu...</td>\n",
       "      <td>2000 Q2</td>\n",
       "      <td>0.030672</td>\n",
       "      <td>983.852173</td>\n",
       "      <td>2</td>\n",
       "    </tr>\n",
       "    <tr>\n",
       "      <th>2637</th>\n",
       "      <td>Inland Empire - CA - Greater Ontario/Rancho Cu...</td>\n",
       "      <td>2000 Q3</td>\n",
       "      <td>0.030590</td>\n",
       "      <td>1009.071472</td>\n",
       "      <td>3</td>\n",
       "    </tr>\n",
       "    <tr>\n",
       "      <th>2638</th>\n",
       "      <td>Inland Empire - CA - Greater Ontario/Rancho Cu...</td>\n",
       "      <td>2000 Q4</td>\n",
       "      <td>0.030443</td>\n",
       "      <td>1027.035156</td>\n",
       "      <td>4</td>\n",
       "    </tr>\n",
       "    <tr>\n",
       "      <th>2639</th>\n",
       "      <td>Inland Empire - CA - Greater Ontario/Rancho Cu...</td>\n",
       "      <td>2001 Q1</td>\n",
       "      <td>0.030805</td>\n",
       "      <td>1052.648682</td>\n",
       "      <td>4</td>\n",
       "    </tr>\n",
       "    <tr>\n",
       "      <th>...</th>\n",
       "      <td>...</td>\n",
       "      <td>...</td>\n",
       "      <td>...</td>\n",
       "      <td>...</td>\n",
       "      <td>...</td>\n",
       "    </tr>\n",
       "    <tr>\n",
       "      <th>18525</th>\n",
       "      <td>Ventura - CA - Ventura</td>\n",
       "      <td>2020 Q1</td>\n",
       "      <td>0.090287</td>\n",
       "      <td>2003.302734</td>\n",
       "      <td>4</td>\n",
       "    </tr>\n",
       "    <tr>\n",
       "      <th>18526</th>\n",
       "      <td>Ventura - CA - Ventura</td>\n",
       "      <td>2020 Q2</td>\n",
       "      <td>0.078770</td>\n",
       "      <td>2055.125244</td>\n",
       "      <td>4</td>\n",
       "    </tr>\n",
       "    <tr>\n",
       "      <th>18527</th>\n",
       "      <td>Ventura - CA - Ventura</td>\n",
       "      <td>2020 Q3</td>\n",
       "      <td>0.085847</td>\n",
       "      <td>2085.887451</td>\n",
       "      <td>3</td>\n",
       "    </tr>\n",
       "    <tr>\n",
       "      <th>18528</th>\n",
       "      <td>Ventura - CA - Ventura</td>\n",
       "      <td>2020 Q4</td>\n",
       "      <td>0.074298</td>\n",
       "      <td>2120.484863</td>\n",
       "      <td>3</td>\n",
       "    </tr>\n",
       "    <tr>\n",
       "      <th>18529</th>\n",
       "      <td>Ventura - CA - Ventura</td>\n",
       "      <td>2021 Q1</td>\n",
       "      <td>0.066250</td>\n",
       "      <td>2170.513428</td>\n",
       "      <td>3</td>\n",
       "    </tr>\n",
       "  </tbody>\n",
       "</table>\n",
       "<p>6630 rows × 5 columns</p>\n",
       "</div>"
      ],
      "text/plain": [
       "                                          Geography Name   Period  \\\n",
       "2635   Inland Empire - CA - Greater Ontario/Rancho Cu...  2000 Q1   \n",
       "2636   Inland Empire - CA - Greater Ontario/Rancho Cu...  2000 Q2   \n",
       "2637   Inland Empire - CA - Greater Ontario/Rancho Cu...  2000 Q3   \n",
       "2638   Inland Empire - CA - Greater Ontario/Rancho Cu...  2000 Q4   \n",
       "2639   Inland Empire - CA - Greater Ontario/Rancho Cu...  2001 Q1   \n",
       "...                                                  ...      ...   \n",
       "18525                             Ventura - CA - Ventura  2020 Q1   \n",
       "18526                             Ventura - CA - Ventura  2020 Q2   \n",
       "18527                             Ventura - CA - Ventura  2020 Q3   \n",
       "18528                             Ventura - CA - Ventura  2020 Q4   \n",
       "18529                             Ventura - CA - Ventura  2021 Q1   \n",
       "\n",
       "       Vacancy Rate  Market Asking Rent/Unit  Under Construction Buildings  \n",
       "2635       0.030945               962.320435                             2  \n",
       "2636       0.030672               983.852173                             2  \n",
       "2637       0.030590              1009.071472                             3  \n",
       "2638       0.030443              1027.035156                             4  \n",
       "2639       0.030805              1052.648682                             4  \n",
       "...             ...                      ...                           ...  \n",
       "18525      0.090287              2003.302734                             4  \n",
       "18526      0.078770              2055.125244                             4  \n",
       "18527      0.085847              2085.887451                             3  \n",
       "18528      0.074298              2120.484863                             3  \n",
       "18529      0.066250              2170.513428                             3  \n",
       "\n",
       "[6630 rows x 5 columns]"
      ]
     },
     "execution_count": 46,
     "metadata": {},
     "output_type": "execute_result"
    }
   ],
   "source": [
    "df[['Geography Name','Period','Vacancy Rate','Market Asking Rent/Unit','Under Construction Buildings']].dropna(how='any')"
   ]
  },
  {
   "cell_type": "code",
   "execution_count": 47,
   "metadata": {},
   "outputs": [
    {
     "data": {
      "text/plain": [
       "'2021 Q1'"
      ]
     },
     "execution_count": 47,
     "metadata": {},
     "output_type": "execute_result"
    }
   ],
   "source": [
    "# remove sub-markets for which the last observation was older than 2020\n",
    "df.groupby('Geography Name').Period.transform('max').min()"
   ]
  },
  {
   "cell_type": "code",
   "execution_count": 48,
   "metadata": {},
   "outputs": [],
   "source": [
    "df.to_csv(\"/\".join([data_path, 'costart_prepped.csv']), index=False)"
   ]
  },
  {
   "cell_type": "markdown",
   "metadata": {},
   "source": [
    "# Visualize"
   ]
  },
  {
   "cell_type": "markdown",
   "metadata": {},
   "source": [
    "## Market-level"
   ]
  },
  {
   "cell_type": "code",
   "execution_count": null,
   "metadata": {},
   "outputs": [],
   "source": [
    "# take inner product between rents and unitShares\n",
    "#By quarter\n",
    "marketAvg = {}\n",
    "marketAvg['rent_quart'] =  df.groupby(['market','Period'])[['Market Asking Rent/Unit','market_weight_qrt']].apply(lambda x: np.dot(x.iloc[:,0],x.iloc[:,1])).round(-1)\n",
    "marketAvg['vacancy_quart'] = df.groupby(['market','Period'])[['Vacancy Rate','market_weight_qrt']].apply(lambda x: np.dot(x.iloc[:,0],x.iloc[:,1])).round(3)\n",
    "\n",
    "# combine into single df\n",
    "marketAvg = pd.concat(marketAvg,axis=1)\n",
    "\n",
    "# By year\n",
    "#avgMarketRent_yr = df.groupby(['market','year'])[['Market Asking Rent/Unit','market_weight_yr']].apply(lambda x: np.dot(x.iloc[:,0],x.iloc[:,1])).round(-1)\n",
    "\n",
    "# quarter average\n",
    "marketAvg = marketAvg.reset_index().rename(columns = {0:'rent'})\n",
    "marketAvg.loc[:,'year'] = marketAvg.Period.str.extract(\"(\\d+) Q\", expand=False).str.strip().astype('int').reset_index(drop=True)"
   ]
  },
  {
   "cell_type": "code",
   "execution_count": null,
   "metadata": {},
   "outputs": [],
   "source": [
    "toplot = marketAvg.groupby(['market','year'])[['rent_quart','vacancy_quart']].mean()"
   ]
  },
  {
   "cell_type": "code",
   "execution_count": null,
   "metadata": {},
   "outputs": [],
   "source": [
    "toplot"
   ]
  },
  {
   "cell_type": "markdown",
   "metadata": {},
   "source": [
    "# Visualize Each Market"
   ]
  },
  {
   "cell_type": "markdown",
   "metadata": {},
   "source": [
    "### average rents"
   ]
  },
  {
   "cell_type": "code",
   "execution_count": null,
   "metadata": {},
   "outputs": [],
   "source": [
    "for label, group in toplot['rent_quart'].groupby(level=0):\n",
    "    plt.figure()\n",
    "    group[label].plot(kind = 'bar',width=.93,color='orange')\n",
    "    plt.title(\"Average rents in %s\" %label, fontsize = 14)\n",
    "    plt.xlabel(\"Year\", fontsize = 14)\n",
    "    plt.ylabel(\"Avg. asking rent per unit\", fontsize = 14)\n",
    "    plt.savefig(\"/\".join([data_path, 'avg_annual_rent_%s.png' %label]))"
   ]
  },
  {
   "cell_type": "markdown",
   "metadata": {},
   "source": [
    "### Vacancy Rates"
   ]
  },
  {
   "cell_type": "code",
   "execution_count": null,
   "metadata": {},
   "outputs": [],
   "source": [
    "for label, group in toplot['vacancy_quart'].groupby(level=0):\n",
    "    plt.figure()\n",
    "    group[label].plot(kind = 'bar',width=.93,color='teal')\n",
    "    plt.title(\"Average rents in %s\" %label, fontsize = 14)\n",
    "    plt.xlabel(\"Year\", fontsize = 14)\n",
    "    plt.ylabel(\"Avg. asking rent per unit\", fontsize = 14)\n",
    "    plt.savefig(\"/\".join([data_path, 'avg_annual_vacancy_%s.png' %label]))"
   ]
  },
  {
   "cell_type": "markdown",
   "metadata": {},
   "source": [
    "## Compute averages"
   ]
  },
  {
   "cell_type": "code",
   "execution_count": null,
   "metadata": {},
   "outputs": [],
   "source": [
    "# Compute average rents\n",
    "avg = df.groupby(['Geography Name','year'])['Market Asking Rent/Unit'].mean().round(-1)"
   ]
  },
  {
   "cell_type": "code",
   "execution_count": null,
   "metadata": {},
   "outputs": [],
   "source": [
    "avg = avg.reset_index()"
   ]
  },
  {
   "cell_type": "code",
   "execution_count": null,
   "metadata": {},
   "outputs": [],
   "source": [
    "avg['Geography Name'].unique().shape[0]"
   ]
  },
  {
   "cell_type": "code",
   "execution_count": null,
   "metadata": {},
   "outputs": [],
   "source": [
    "avg.loc[avg['Geography Name'].str.contains(\"Los Angeles\"),'Geography Name'].unique().shape[0]"
   ]
  }
 ],
 "metadata": {
  "kernelspec": {
   "display_name": "Python 3",
   "language": "python",
   "name": "python3"
  },
  "language_info": {
   "codemirror_mode": {
    "name": "ipython",
    "version": 3
   },
   "file_extension": ".py",
   "mimetype": "text/x-python",
   "name": "python",
   "nbconvert_exporter": "python",
   "pygments_lexer": "ipython3",
   "version": "3.8.5"
  }
 },
 "nbformat": 4,
 "nbformat_minor": 4
}
